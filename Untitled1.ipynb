{
 "cells": [
  {
   "cell_type": "markdown",
   "metadata": {},
   "source": [
    "# Задание 1. A/B–тестирование\n",
    "В ходе тестирования одной гипотезы целевой группе была предложена новая механика оплаты услуг на сайте, у контрольной группы оставалась базовая механика. В качестве задания Вам необходимо проанализировать итоги эксперимента и сделать вывод, стоит ли запускать новую механику оплаты на всех пользователей."
   ]
  },
  {
   "cell_type": "code",
   "execution_count": 2,
   "metadata": {},
   "outputs": [
    {
     "name": "stderr",
     "output_type": "stream",
     "text": [
      "/opt/tljh/user/lib/python3.7/site-packages/outdated/utils.py:18: OutdatedPackageWarning: The package outdated is out of date. Your version is 0.2.1, the latest is 0.2.2.\n",
      "Set the environment variable OUTDATED_IGNORE=1 to disable these warnings.\n",
      "  **kwargs\n",
      "/opt/tljh/user/lib/python3.7/site-packages/outdated/utils.py:18: OutdatedCacheFailedWarning: Failed to use cache while checking for outdated package.\n",
      "Set the environment variable OUTDATED_RAISE_EXCEPTION=1 for a full traceback.\n",
      "Set the environment variable OUTDATED_IGNORE=1 to disable these warnings.\n",
      "  **kwargs\n",
      "/opt/tljh/user/lib/python3.7/site-packages/outdated/utils.py:18: OutdatedPackageWarning: The package pingouin is out of date. Your version is 0.4.0, the latest is 0.5.2.\n",
      "Set the environment variable OUTDATED_IGNORE=1 to disable these warnings.\n",
      "  **kwargs\n"
     ]
    }
   ],
   "source": [
    "import pandas as pd\n",
    "import urllib.parse\n",
    "import requests\n",
    "import numpy as np\n",
    "import scipy as scipy\n",
    "import scipy.stats as stats\n",
    "from tqdm.auto import tqdm\n",
    "from scipy.stats import chi2_contingency\n",
    "from scipy.stats import norm, ttest_ind\n",
    "from pingouin import chi2_independence\n",
    "import seaborn as sns\n",
    "import matplotlib.pyplot as plt\n",
    "%matplotlib inline\n",
    "import pandahouse as ph"
   ]
  },
  {
   "cell_type": "code",
   "execution_count": 3,
   "metadata": {},
   "outputs": [],
   "source": [
    "# Загрузка данных\n",
    "base_url = 'https://cloud-api.yandex.net/v1/disk/public/resources/download?' \n",
    "public_key_1 = 'https://disk.yandex.ru/d/58Us0DWOzuWAjg'  \n",
    "public_key_2 = 'https://disk.yandex.ru/d/3aARY-P9pfaksg' \n",
    "public_key_3 = 'https://disk.yandex.ru/d/prbgU-rZpiXVYg' \n",
    "public_key_4 = 'https://disk.yandex.ru/d/84hTmELphW2sqQ' \n",
    " \n",
    "# Получаем загрузочные ссылки \n",
    "final_url_1 = base_url + urllib.parse.urlencode(dict(public_key=public_key_1)) \n",
    "response = requests.get(final_url_1) \n",
    "download_url_1 = response.json()['href'] \n",
    "\n",
    "final_url_2 = base_url + urllib.parse.urlencode(dict(public_key=public_key_2)) \n",
    "response = requests.get(final_url_2) \n",
    "download_url_2 = response.json()['href'] \n",
    "\n",
    "final_url_3 = base_url + urllib.parse.urlencode(dict(public_key=public_key_3)) \n",
    "response = requests.get(final_url_3) \n",
    "download_url_3 = response.json()['href'] \n",
    "\n",
    "final_url_4 = base_url + urllib.parse.urlencode(dict(public_key=public_key_4)) \n",
    "response = requests.get(final_url_4) \n",
    "download_url_4 = response.json()['href'] \n",
    "\n",
    "# загружаем в датафреймы\n",
    "groups = pd.read_csv(download_url_1, sep=';')  # файл с информацией о принадлежности пользователя\n",
    "                                               # к контрольной или экспериментальной группе (А – контроль, B – целевая группа)\n",
    "groups_add = pd.read_csv(download_url_2, sep=',')  # дополнительный файл с пользователями, который вам прислали спустя 2 дня\n",
    "                                                   # после передачи данных\n",
    "active_users = pd.read_csv(download_url_3, sep=';')  # файл с информацией о пользователях, которые зашли на платформу в дни\n",
    "                                                     # проведения эксперимента\n",
    "checks = pd.read_csv(download_url_4, sep=';')  # файл с информацией об оплатах пользователей в дни проведения эксперимента"
   ]
  },
  {
   "cell_type": "markdown",
   "metadata": {},
   "source": [
    "## 1.1 Определение метрик\n",
    "Для анализа итогов эксперимента определимся с метриками, которые будем отслеживать. Так как целевой группе была предложена\n",
    "новая механика оплаты услуг на сайте, то в первую очередь это повлияет на **конверсию в покупку**. Именно эту метрику возьмем за основу для выводов.\n",
    "\n",
    "**Сопутствующая метрика, которую можно отследить, чтобы она не падала:** средний чек\n",
    "\n",
    "**Опережающие метрики:** при наличии данных можно было бы отследить ошибки при оплате.\n",
    "\n",
    "**Guardrail:** при наличии данных можно было бы отследить время от входа в корзину до её прохождения"
   ]
  },
  {
   "cell_type": "markdown",
   "metadata": {},
   "source": [
    "## 1.2 Анализ основной метрики\n",
    "Рассчитаем конверсию в покупку. Для этого подготовим данные."
   ]
  },
  {
   "cell_type": "code",
   "execution_count": 4,
   "metadata": {},
   "outputs": [],
   "source": [
    "# приведем названия колонок к единому значению\n",
    "active_users.rename(columns={'student_id' : 'id'}, inplace=True)\n",
    "checks.rename(columns={'student_id' : 'id'}, inplace=True)"
   ]
  },
  {
   "cell_type": "code",
   "execution_count": 5,
   "metadata": {},
   "outputs": [
    {
     "data": {
      "text/plain": [
       "id      0\n",
       "grp    13\n",
       "dtype: int64"
      ]
     },
     "execution_count": 5,
     "metadata": {},
     "output_type": "execute_result"
    }
   ],
   "source": [
    "users_group = active_users.merge(groups, how='left', on='id')  \n",
    "                     # .merge(checks, how='outer', on='id')\n",
    "users_group.isna().sum()"
   ]
  },
  {
   "cell_type": "markdown",
   "metadata": {},
   "source": [
    "Не все пользователи, пришедшие на сайт в дни эксперимента, были распределены по группам (т.е. они не участвовали в эксперименте).\n",
    "Удалим этих пользователей."
   ]
  },
  {
   "cell_type": "code",
   "execution_count": 6,
   "metadata": {},
   "outputs": [],
   "source": [
    "users_group = users_group.dropna(subset=['id', 'grp'])"
   ]
  },
  {
   "cell_type": "code",
   "execution_count": 7,
   "metadata": {},
   "outputs": [
    {
     "data": {
      "text/plain": [
       "id        0\n",
       "grp     150\n",
       "rev    7937\n",
       "dtype: int64"
      ]
     },
     "execution_count": 7,
     "metadata": {},
     "output_type": "execute_result"
    }
   ],
   "source": [
    "user_active_pay = users_group.merge(checks, how='outer', on='id')\n",
    "user_active_pay.isna().sum()"
   ]
  },
  {
   "cell_type": "markdown",
   "metadata": {},
   "source": [
    "7937 пользователей зашли на сайт, но ничего не купили. 150 пользователей совершили оплату не заходя на сайт (возможно это ошибка данных/ оплата с других ресурсов/ абонентское списание и т.д.). По заданию мы тестируем новую механику оплаты услуг на сайте, значит пользователи, которые не заходили на сайт, нас не интересуют (они не видели новую механику оплаты)."
   ]
  },
  {
   "cell_type": "code",
   "execution_count": 8,
   "metadata": {},
   "outputs": [
    {
     "data": {
      "text/html": [
       "<div>\n",
       "<style scoped>\n",
       "    .dataframe tbody tr th:only-of-type {\n",
       "        vertical-align: middle;\n",
       "    }\n",
       "\n",
       "    .dataframe tbody tr th {\n",
       "        vertical-align: top;\n",
       "    }\n",
       "\n",
       "    .dataframe thead th {\n",
       "        text-align: right;\n",
       "    }\n",
       "</style>\n",
       "<table border=\"1\" class=\"dataframe\">\n",
       "  <thead>\n",
       "    <tr style=\"text-align: right;\">\n",
       "      <th></th>\n",
       "      <th>id</th>\n",
       "      <th>grp</th>\n",
       "      <th>rev</th>\n",
       "      <th>purchase</th>\n",
       "    </tr>\n",
       "  </thead>\n",
       "  <tbody>\n",
       "    <tr>\n",
       "      <th>0</th>\n",
       "      <td>581585</td>\n",
       "      <td>A</td>\n",
       "      <td>0.0</td>\n",
       "      <td>0</td>\n",
       "    </tr>\n",
       "    <tr>\n",
       "      <th>1</th>\n",
       "      <td>3276743</td>\n",
       "      <td>B</td>\n",
       "      <td>0.0</td>\n",
       "      <td>0</td>\n",
       "    </tr>\n",
       "    <tr>\n",
       "      <th>2</th>\n",
       "      <td>4238589</td>\n",
       "      <td>A</td>\n",
       "      <td>0.0</td>\n",
       "      <td>0</td>\n",
       "    </tr>\n",
       "  </tbody>\n",
       "</table>\n",
       "</div>"
      ],
      "text/plain": [
       "        id grp  rev  purchase\n",
       "0   581585   A  0.0         0\n",
       "1  3276743   B  0.0         0\n",
       "2  4238589   A  0.0         0"
      ]
     },
     "execution_count": 8,
     "metadata": {},
     "output_type": "execute_result"
    }
   ],
   "source": [
    "# пересоберем df, возьмем только пользователей, которые заходили на платформу во время эксперимента\n",
    "users = active_users.merge(groups, how='inner', on='id')  \\\n",
    "                    .merge(checks, how='left', on='id')\n",
    "\n",
    "# создание колонки покупки, для дальнейшего расчета конверсии в покупку\n",
    "users['purchase'] = np.where(users.rev.isna(), 0, 1) \n",
    "\n",
    "# заменим нулями отсутствующие значения \n",
    "users.rev = np.where(users.rev.isna(), 0, users.rev)\n",
    "users.rev = users.rev.round(2)\n",
    "users.head(3)"
   ]
  },
  {
   "cell_type": "code",
   "execution_count": 9,
   "metadata": {},
   "outputs": [
    {
     "data": {
      "text/plain": [
       "1900.0    127\n",
       "290.0      70\n",
       "199.0      32\n",
       "840.0      24\n",
       "990.0      22\n",
       "690.0      17\n",
       "580.0      11\n",
       "590.0      11\n",
       "1140.0     11\n",
       "1530.0      8\n",
       "Name: rev, dtype: int64"
      ]
     },
     "execution_count": 9,
     "metadata": {},
     "output_type": "execute_result"
    }
   ],
   "source": [
    "users.loc[users.purchase==1].rev.value_counts().head(10)"
   ]
  },
  {
   "cell_type": "code",
   "execution_count": 10,
   "metadata": {},
   "outputs": [
    {
     "data": {
      "text/plain": [
       "391"
      ]
     },
     "execution_count": 10,
     "metadata": {},
     "output_type": "execute_result"
    }
   ],
   "source": [
    "users.loc[users.purchase==1].rev.count()"
   ]
  },
  {
   "cell_type": "markdown",
   "metadata": {},
   "source": [
    "Мы видим, что около 30% оплат с чеком 1900. Возможно это абонентская плата. Такое количество одинаковых значений может повлиять на результат статистических тестов. "
   ]
  },
  {
   "cell_type": "code",
   "execution_count": 11,
   "metadata": {},
   "outputs": [
    {
     "name": "stdout",
     "output_type": "stream",
     "text": [
      "Размер контрольной группы: 1535 \n",
      "Размер тестовой группы: 6793\n",
      "Конверсия в покупку в контрольной группе: 0.0508 \n",
      "Конверсия в покупку в тестовой группе: 0.0461\n"
     ]
    }
   ],
   "source": [
    "# разобьем  пользователей по группам\n",
    "control_group = users.query('grp == \"A\"')\n",
    "test_group = users.query('grp == \"B\"')\n",
    "print('Размер контрольной группы:', control_group.shape[0], \n",
    "      '\\nРазмер тестовой группы:', test_group.shape[0])\n",
    "print('Конверсия в покупку в контрольной группе:', control_group.purchase.mean().round(4),   \n",
    "      '\\nКонверсия в покупку в тестовой группе:', test_group.purchase.mean().round(4))"
   ]
  },
  {
   "cell_type": "code",
   "execution_count": 12,
   "metadata": {},
   "outputs": [
    {
     "data": {
      "text/plain": [
       "Text(0.5, 1.0, 'Гистограмма распределения факта покупок')"
      ]
     },
     "execution_count": 12,
     "metadata": {},
     "output_type": "execute_result"
    },
    {
     "data": {
      "image/png": "[encoded data removed]",
      "text/plain": [
       "<Figure size 648x432 with 1 Axes>"
      ]
     },
     "metadata": {},
     "output_type": "display_data"
    }
   ],
   "source": [
    "sns.set(font_scale=1.2, style=\"whitegrid\", rc={'figure.figsize': (9, 6)})\n",
    "ax = sns.histplot(data=users, x='purchase', hue='grp')\n",
    "ax.set_xlabel('Покупка (да - 1 /нет - 0)')\n",
    "ax.set_ylabel('Количество наблюдение в группе')\n",
    "ax.set_title('Гистограмма распределения факта покупок')"
   ]
  },
  {
   "cell_type": "markdown",
   "metadata": {},
   "source": [
    "Размеры групп значительно отличаются, однако кол-во наблюдений в них достаточно для дальнейших исследований. Конверсия в покупку в обеих группах примерно одинакова и очень мала (около 5%)."
   ]
  },
  {
   "cell_type": "markdown",
   "metadata": {},
   "source": [
    "### 1.2.1 A/B - тест\n",
    "Чтобы понять насколько статистически значимо различаются конверсии в покупку - проведем A/B тест.   \n",
    "Нулевая гипотеза (H0): Разницы между конверсией в покупку в тестовой и контрольной группе нет.   \n",
    "Альтернативная гипотеза (H1): Разница между конверсией в покупку в тестовой и контрольной группе есть."
   ]
  },
  {
   "cell_type": "markdown",
   "metadata": {},
   "source": [
    "Поскольку данные в \"purchase\" и \"grp\" являются категориальными переменными, то будем использовать тест Хи-квадрат\n",
    "### Тест Хи-квадрат\n",
    "Требования: наблюдения не зависимы (выполняется);\n",
    "            в каждой ячейке более 5 значений (выполняется)   \n",
    "H0 : взаимосвязи между переменными (группа, покупка) нет;    \n",
    "H1 : взаимосвязь есть"
   ]
  },
  {
   "cell_type": "code",
   "execution_count": 13,
   "metadata": {},
   "outputs": [
    {
     "data": {
      "text/plain": [
       "Ttest_indResult(statistic=-1.1930593769039888, pvalue=0.23288011573839099)"
      ]
     },
     "execution_count": 13,
     "metadata": {},
     "output_type": "execute_result"
    }
   ],
   "source": [
    "ttest_ind(control_group.rev, test_group.rev)"
   ]
  },
  {
   "cell_type": "code",
   "execution_count": 14,
   "metadata": {},
   "outputs": [],
   "source": [
    "expected, observed, stats = chi2_independence(users, x='purchase', y='grp')"
   ]
  },
  {
   "cell_type": "code",
   "execution_count": 15,
   "metadata": {},
   "outputs": [
    {
     "name": "stdout",
     "output_type": "stream",
     "text": [
      "Ожидаемые значения:\n"
     ]
    },
    {
     "data": {
      "text/html": [
       "<div>\n",
       "<style scoped>\n",
       "    .dataframe tbody tr th:only-of-type {\n",
       "        vertical-align: middle;\n",
       "    }\n",
       "\n",
       "    .dataframe tbody tr th {\n",
       "        vertical-align: top;\n",
       "    }\n",
       "\n",
       "    .dataframe thead th {\n",
       "        text-align: right;\n",
       "    }\n",
       "</style>\n",
       "<table border=\"1\" class=\"dataframe\">\n",
       "  <thead>\n",
       "    <tr style=\"text-align: right;\">\n",
       "      <th>grp</th>\n",
       "      <th>A</th>\n",
       "      <th>B</th>\n",
       "    </tr>\n",
       "    <tr>\n",
       "      <th>purchase</th>\n",
       "      <th></th>\n",
       "      <th></th>\n",
       "    </tr>\n",
       "  </thead>\n",
       "  <tbody>\n",
       "    <tr>\n",
       "      <th>0</th>\n",
       "      <td>1462.931676</td>\n",
       "      <td>6474.068324</td>\n",
       "    </tr>\n",
       "    <tr>\n",
       "      <th>1</th>\n",
       "      <td>72.068324</td>\n",
       "      <td>318.931676</td>\n",
       "    </tr>\n",
       "  </tbody>\n",
       "</table>\n",
       "</div>"
      ],
      "text/plain": [
       "grp                 A            B\n",
       "purchase                          \n",
       "0         1462.931676  6474.068324\n",
       "1           72.068324   318.931676"
      ]
     },
     "execution_count": 15,
     "metadata": {},
     "output_type": "execute_result"
    }
   ],
   "source": [
    "print('Ожидаемые значения:')\n",
    "expected"
   ]
  },
  {
   "cell_type": "code",
   "execution_count": 16,
   "metadata": {},
   "outputs": [
    {
     "name": "stdout",
     "output_type": "stream",
     "text": [
      "Наблюдаемые значения\n"
     ]
    },
    {
     "data": {
      "text/html": [
       "<div>\n",
       "<style scoped>\n",
       "    .dataframe tbody tr th:only-of-type {\n",
       "        vertical-align: middle;\n",
       "    }\n",
       "\n",
       "    .dataframe tbody tr th {\n",
       "        vertical-align: top;\n",
       "    }\n",
       "\n",
       "    .dataframe thead th {\n",
       "        text-align: right;\n",
       "    }\n",
       "</style>\n",
       "<table border=\"1\" class=\"dataframe\">\n",
       "  <thead>\n",
       "    <tr style=\"text-align: right;\">\n",
       "      <th>grp</th>\n",
       "      <th>A</th>\n",
       "      <th>B</th>\n",
       "    </tr>\n",
       "    <tr>\n",
       "      <th>purchase</th>\n",
       "      <th></th>\n",
       "      <th></th>\n",
       "    </tr>\n",
       "  </thead>\n",
       "  <tbody>\n",
       "    <tr>\n",
       "      <th>0</th>\n",
       "      <td>1457.5</td>\n",
       "      <td>6479.5</td>\n",
       "    </tr>\n",
       "    <tr>\n",
       "      <th>1</th>\n",
       "      <td>77.5</td>\n",
       "      <td>313.5</td>\n",
       "    </tr>\n",
       "  </tbody>\n",
       "</table>\n",
       "</div>"
      ],
      "text/plain": [
       "grp            A       B\n",
       "purchase                \n",
       "0         1457.5  6479.5\n",
       "1           77.5   313.5"
      ]
     },
     "execution_count": 16,
     "metadata": {},
     "output_type": "execute_result"
    }
   ],
   "source": [
    "print('Наблюдаемые значения')\n",
    "observed"
   ]
  },
  {
   "cell_type": "code",
   "execution_count": 17,
   "metadata": {},
   "outputs": [
    {
     "data": {
      "text/html": [
       "<div>\n",
       "<style scoped>\n",
       "    .dataframe tbody tr th:only-of-type {\n",
       "        vertical-align: middle;\n",
       "    }\n",
       "\n",
       "    .dataframe tbody tr th {\n",
       "        vertical-align: top;\n",
       "    }\n",
       "\n",
       "    .dataframe thead th {\n",
       "        text-align: right;\n",
       "    }\n",
       "</style>\n",
       "<table border=\"1\" class=\"dataframe\">\n",
       "  <thead>\n",
       "    <tr style=\"text-align: right;\">\n",
       "      <th></th>\n",
       "      <th>test</th>\n",
       "      <th>lambda</th>\n",
       "      <th>chi2</th>\n",
       "      <th>dof</th>\n",
       "      <th>pval</th>\n",
       "      <th>cramer</th>\n",
       "      <th>power</th>\n",
       "    </tr>\n",
       "  </thead>\n",
       "  <tbody>\n",
       "    <tr>\n",
       "      <th>0</th>\n",
       "      <td>pearson</td>\n",
       "      <td>1.000000</td>\n",
       "      <td>0.526607</td>\n",
       "      <td>1.0</td>\n",
       "      <td>0.468037</td>\n",
       "      <td>0.007952</td>\n",
       "      <td>0.112168</td>\n",
       "    </tr>\n",
       "    <tr>\n",
       "      <th>1</th>\n",
       "      <td>cressie-read</td>\n",
       "      <td>0.666667</td>\n",
       "      <td>0.523446</td>\n",
       "      <td>1.0</td>\n",
       "      <td>0.469375</td>\n",
       "      <td>0.007928</td>\n",
       "      <td>0.111786</td>\n",
       "    </tr>\n",
       "    <tr>\n",
       "      <th>2</th>\n",
       "      <td>log-likelihood</td>\n",
       "      <td>0.000000</td>\n",
       "      <td>0.517247</td>\n",
       "      <td>1.0</td>\n",
       "      <td>0.472019</td>\n",
       "      <td>0.007881</td>\n",
       "      <td>0.111037</td>\n",
       "    </tr>\n",
       "    <tr>\n",
       "      <th>3</th>\n",
       "      <td>freeman-tukey</td>\n",
       "      <td>-0.500000</td>\n",
       "      <td>0.512702</td>\n",
       "      <td>1.0</td>\n",
       "      <td>0.473971</td>\n",
       "      <td>0.007846</td>\n",
       "      <td>0.110488</td>\n",
       "    </tr>\n",
       "    <tr>\n",
       "      <th>4</th>\n",
       "      <td>mod-log-likelihood</td>\n",
       "      <td>-1.000000</td>\n",
       "      <td>0.508246</td>\n",
       "      <td>1.0</td>\n",
       "      <td>0.475899</td>\n",
       "      <td>0.007812</td>\n",
       "      <td>0.109950</td>\n",
       "    </tr>\n",
       "    <tr>\n",
       "      <th>5</th>\n",
       "      <td>neyman</td>\n",
       "      <td>-2.000000</td>\n",
       "      <td>0.499590</td>\n",
       "      <td>1.0</td>\n",
       "      <td>0.479680</td>\n",
       "      <td>0.007745</td>\n",
       "      <td>0.108905</td>\n",
       "    </tr>\n",
       "  </tbody>\n",
       "</table>\n",
       "</div>"
      ],
      "text/plain": [
       "                 test    lambda      chi2  dof      pval    cramer     power\n",
       "0             pearson  1.000000  0.526607  1.0  0.468037  0.007952  0.112168\n",
       "1        cressie-read  0.666667  0.523446  1.0  0.469375  0.007928  0.111786\n",
       "2      log-likelihood  0.000000  0.517247  1.0  0.472019  0.007881  0.111037\n",
       "3       freeman-tukey -0.500000  0.512702  1.0  0.473971  0.007846  0.110488\n",
       "4  mod-log-likelihood -1.000000  0.508246  1.0  0.475899  0.007812  0.109950\n",
       "5              neyman -2.000000  0.499590  1.0  0.479680  0.007745  0.108905"
      ]
     },
     "execution_count": 17,
     "metadata": {},
     "output_type": "execute_result"
    }
   ],
   "source": [
    "stats"
   ]
  },
  {
   "cell_type": "markdown",
   "metadata": {},
   "source": [
    "### Итого:\n",
    "1. Для степени свободы равной 1 ((2-1)*(2-1)=1) и с уровнем значимости 5% критическое значение для статистики Хи-квадрат составляет 3,841 (согласно таблице https://www.mun.ca/biology/scarr/4250_Chi-square_critical_values.html ), а тестовая статистика получается равной примерно 0.5. Эта статистика является мерой того, в какой степени наблюдаемые данные отклоняются от ожидаемых значений.\n",
    "2. Мы наблюдаем большое значение p-value, которое в основном свидетельствует о недостаточности оснований для отклонения нулевой гипотезы.\n",
    "3. Мощность теста для наблюдаемого значения разности пропорций низкая (около 11%)"
   ]
  },
  {
   "cell_type": "markdown",
   "metadata": {},
   "source": [
    "### 1.2.2 Анализ сопутствующей метрики\n",
    "### Cредний чек"
   ]
  },
  {
   "cell_type": "code",
   "execution_count": 18,
   "metadata": {},
   "outputs": [
    {
     "name": "stdout",
     "output_type": "stream",
     "text": [
      "Средний чек в контрольной группе: 933.59 \n",
      "Средний чек в тестовой группе: 1255.83\n"
     ]
    }
   ],
   "source": [
    "print('Средний чек в контрольной группе:', control_group.query('purchase==1').rev.mean().round(2),   \n",
    "      '\\nСредний чек в тестовой группе:', test_group.query('purchase==1').rev.mean().round(2))"
   ]
  },
  {
   "cell_type": "code",
   "execution_count": 19,
   "metadata": {},
   "outputs": [
    {
     "data": {
      "image/png": "[encoded data removed]",
      "text/plain": [
       "<Figure size 1296x1080 with 2 Axes>"
      ]
     },
     "metadata": {},
     "output_type": "display_data"
    }
   ],
   "source": [
    "sns.set(font_scale=1.2, style=\"whitegrid\", rc={'figure.figsize': (18, 15)})\n",
    "plt.subplot(221)\n",
    "ax = sns.boxplot(data=users.loc[users.purchase == 1], x='grp', y='rev')\n",
    "ax.set_xlabel('Группы')\n",
    "ax.set_ylabel('Средний чек')\n",
    "ax.set_title('Боксплот по среднему чеку')\n",
    "sns.despine()\n",
    "\n",
    "plt.subplot(222)\n",
    "ax = sns.histplot(data=users.loc[users.purchase == 1], x='rev', hue='grp', bins=50)\n",
    "ax.set_xlabel('Средний чек')\n",
    "ax.set_ylabel('Количество наблюдение в группе')\n",
    "ax.set_title('Гистограмма распределения среднего чека')\n",
    "sns.despine()"
   ]
  },
  {
   "cell_type": "markdown",
   "metadata": {},
   "source": [
    "Средний чек в тестовой группе имеет бОльший межквартильный размах. Медианы различаются. В обеих группах есть выбросы. Распределение среднего чека не нормально (это видно по графику, проверять тестом Шапиро Уилка не будем). Таким образом, для оценки отличий данных групп (test и control) мы не можем использовать t-test, но можем использовать бутстрап и критерий mann-whitney. Однако, критерий mann-whitney не очень приветлив к дисбалансу (у нас разное количество наблюдений в группах), а также он проверяет гипотезу о равенстве рангов (а нас интересует среднее). Используем бутстрап."
   ]
  },
  {
   "cell_type": "markdown",
   "metadata": {},
   "source": [
    "## Бутстрап\n",
    "H0 - разницы между средними значениями среднего чека двух групп нет;  \n",
    "H1 - разница между средними значениями есть"
   ]
  },
  {
   "cell_type": "code",
   "execution_count": 20,
   "metadata": {},
   "outputs": [],
   "source": [
    "# Объявим функцию, которая позволит проверять гипотезы с помощью бутстрапа\n",
    "def get_bootstrap(\n",
    "    data_column_1,  # числовые значения первой выборки\n",
    "    data_column_2,   # числовые значения второй выборки\n",
    "    boot_it,  # количество бутстрэп-подвыборок\n",
    "    statistic,  # интересующая нас статистика\n",
    "    bootstrap_conf_level # уровень значимости\n",
    "):\n",
    "    boot_len = max([len(data_column_1), len(data_column_2)])\n",
    "    boot_data = []\n",
    "    for i in tqdm(range(boot_it)):  # извлекаем подвыборки\n",
    "        samples_1 = data_column_1.sample(\n",
    "            boot_len, \n",
    "            replace=True  # параметр возвращения\n",
    "        ).values\n",
    "        \n",
    "        samples_2 = data_column_2.sample(\n",
    "            boot_len, \n",
    "            replace=True\n",
    "        ).values\n",
    "        \n",
    "        boot_data.append(statistic(samples_1 - samples_2))  # применяем статистику\n",
    "        \n",
    "    pd_boot_data = pd.DataFrame(boot_data)\n",
    "        \n",
    "    left_quant = (1 - bootstrap_conf_level) / 2\n",
    "    right_quant = 1 - (1 - bootstrap_conf_level) / 2\n",
    "    ci = pd_boot_data.quantile([left_quant, right_quant])\n",
    "        \n",
    "    p_1 = norm.cdf(\n",
    "        x=0, \n",
    "        loc=np.mean(boot_data), \n",
    "        scale=np.std(boot_data)\n",
    "    )\n",
    "    p_2 = norm.cdf(\n",
    "        x=0, \n",
    "        loc=-np.mean(boot_data), \n",
    "        scale=np.std(boot_data)\n",
    "    )\n",
    "    p_value = min(p_1, p_2) * 2\n",
    "        \n",
    "    # Визуализация\n",
    "    sns.set(font_scale=1.2, style=\"whitegrid\", rc={'figure.figsize': (9, 6)})\n",
    "    plt.hist(pd_boot_data[0], bins = 50)\n",
    "    \n",
    "    plt.style.use('ggplot')\n",
    "    plt.vlines(ci, ymin=0, ymax=50, linestyle='--')\n",
    "    plt.xlabel('boot_data')\n",
    "    plt.ylabel('frequency')\n",
    "    plt.title(\"Histogram of boot_data\")\n",
    "    plt.show()\n",
    "       \n",
    "    return {\"boot_data\": boot_data, \n",
    "            \"ci\": ci, \n",
    "            \"p_value\": p_value}"
   ]
  },
  {
   "cell_type": "code",
   "execution_count": 21,
   "metadata": {},
   "outputs": [
    {
     "data": {
      "application/vnd.jupyter.widget-view+json": {
       "model_id": "5599251df3ee4974a77f26b0628d4dd6",
       "version_major": 2,
       "version_minor": 0
      },
      "text/plain": [
       "HBox(children=(FloatProgress(value=0.0, max=2000.0), HTML(value='')))"
      ]
     },
     "metadata": {},
     "output_type": "display_data"
    },
    {
     "name": "stdout",
     "output_type": "stream",
     "text": [
      "\n"
     ]
    },
    {
     "data": {
      "image/png": "[encoded data removed]",
      "text/plain": [
       "<Figure size 648x432 with 1 Axes>"
      ]
     },
     "metadata": {},
     "output_type": "display_data"
    },
    {
     "data": {
      "text/plain": [
       "7.2394211098641234e-06"
      ]
     },
     "execution_count": 21,
     "metadata": {},
     "output_type": "execute_result"
    }
   ],
   "source": [
    "get_bootstrap(control_group.loc[control_group.purchase==1].rev, \n",
    "              test_group.loc[test_group.purchase==1].rev, \n",
    "              2000, np.mean, 0.95)['p_value']"
   ]
  },
  {
   "cell_type": "markdown",
   "metadata": {},
   "source": [
    "Бутстрап по среднему: p_value < 0.05 и 0 не входит в доверительный интервал, отклоняем нулевую гипотезу о равенстве средних\n",
    "в bootstrap-распределении. По оценке средних (среднего чека) делаем вывод, что значения для двух групп статистически отличаются. "
   ]
  },
  {
   "cell_type": "markdown",
   "metadata": {},
   "source": [
    "## Итого\n",
    "* Конверсия в покупку: применяя тест Хи-квадрат мы не смогли отклонить H0 об отсутствии взаимосвязи между группой и покупкой\n",
    "* Средний чек: применяя бутстрап с оценкой среднего и медианы мы обнаружили статистически значимые различия \n",
    "* Новая механика оплаты услуг на сайте не повлияла значимо на конверсию в покупку, но повысился средний чек (не факт, что за счет тестируемой механики оплаты).\n",
    "* При определении метрик мы зафиксировали, что за основу для выводов возьмем конверсию в покупкую. Имея результаты теста, понимание в разнице размеров групп, на данном этапе не рекомендуем запускать новую механику оплаты на всех пользователей. Однако что-то значимо повлияло на повышение среднего чека (например: допродажа в корзине, показ в корзине акций, либо это сказались одинаковые чеки в размере 1900). Поэтому рекомендовано далее изучить, что могло повлиять на рост среднего чека (возможно это другая фича, которая запускается параллельно).\n",
    "\n",
    "P.S.: Не исключено, что \"новая механика оплаты\" подразумевает, в том числе, и допродажу в корзине и т.д. Тогда выводы будут другие. Однако в постановке задачи нет достаточной информации, что именно это за механика и как она выглядит."
   ]
  },
  {
   "cell_type": "code",
   "execution_count": null,
   "metadata": {},
   "outputs": [],
   "source": []
  },
  {
   "cell_type": "markdown",
   "metadata": {},
   "source": [
    "# Задание 2. Функции\n",
    "## 2.1 Пересчет метрик\n",
    "Реализуйте функцию, которая будет автоматически подгружать информацию из дополнительного файла groups_add.csv (заголовки могут отличаться) и на основании дополнительных параметров пересчитывать метрики."
   ]
  },
  {
   "cell_type": "code",
   "execution_count": 22,
   "metadata": {},
   "outputs": [],
   "source": [
    "def addition(groups, groups_add, active_users, checks):\n",
    "    \"\"\"loads information from an additional file and returns recalculated metrics\"\"\"\n",
    "    \n",
    "    groups_total = pd.concat([groups, groups_add], ignore_index=True)\n",
    "\n",
    "    # приведем названия колонок к единому значению\n",
    "    active_users.rename(columns={'student_id' : 'id'}, inplace=True)\n",
    "    checks.rename(columns={'student_id' : 'id'}, inplace=True)\n",
    "\n",
    "    # определим пользователей, которые заходили на платформу во время эксперимента\n",
    "    users = active_users.merge(groups_total, how='inner', on='id')  \\\n",
    "                        .merge(checks, how='left', on='id')\n",
    "\n",
    "    # создание колонки покупки, для дальнейшего расчета конверсии в покупку\n",
    "    users['purchase'] = np.where(users.rev.isna(), 0, 1) \n",
    "\n",
    "    # заменим нулями отсутствующие значения \n",
    "    users.rev = np.where(users.rev.isna(), 0, users.rev)\n",
    "    users.rev = users.rev.round(2)\n",
    "\n",
    "    cr1 = users.query('grp == \"A\"').purchase.mean().round(4)\n",
    "    cr2 = users.query('grp == \"B\"').purchase.mean().round(4)\n",
    "    avg1 = users.query('grp == \"A\" and purchase == 1').rev.mean().round(2)\n",
    "    avg2 = users.query('grp == \"B\" and purchase == 1').rev.mean().round(2)\n",
    "    metrics = pd.DataFrame({'group': ['control', 'test'], 'CR': [cr1, cr2], 'AVG_check': [avg1, avg2]})\n",
    "\n",
    "    return (metrics)"
   ]
  },
  {
   "cell_type": "code",
   "execution_count": 23,
   "metadata": {},
   "outputs": [
    {
     "data": {
      "text/html": [
       "<div>\n",
       "<style scoped>\n",
       "    .dataframe tbody tr th:only-of-type {\n",
       "        vertical-align: middle;\n",
       "    }\n",
       "\n",
       "    .dataframe tbody tr th {\n",
       "        vertical-align: top;\n",
       "    }\n",
       "\n",
       "    .dataframe thead th {\n",
       "        text-align: right;\n",
       "    }\n",
       "</style>\n",
       "<table border=\"1\" class=\"dataframe\">\n",
       "  <thead>\n",
       "    <tr style=\"text-align: right;\">\n",
       "      <th></th>\n",
       "      <th>group</th>\n",
       "      <th>CR</th>\n",
       "      <th>AVG_check</th>\n",
       "    </tr>\n",
       "  </thead>\n",
       "  <tbody>\n",
       "    <tr>\n",
       "      <th>0</th>\n",
       "      <td>control</td>\n",
       "      <td>0.0507</td>\n",
       "      <td>933.59</td>\n",
       "    </tr>\n",
       "    <tr>\n",
       "      <th>1</th>\n",
       "      <td>test</td>\n",
       "      <td>0.0462</td>\n",
       "      <td>1257.88</td>\n",
       "    </tr>\n",
       "  </tbody>\n",
       "</table>\n",
       "</div>"
      ],
      "text/plain": [
       "     group      CR  AVG_check\n",
       "0  control  0.0507     933.59\n",
       "1     test  0.0462    1257.88"
      ]
     },
     "execution_count": 23,
     "metadata": {},
     "output_type": "execute_result"
    }
   ],
   "source": [
    "addition(groups, groups_add, active_users, checks)"
   ]
  },
  {
   "cell_type": "markdown",
   "metadata": {},
   "source": [
    "## 2.2 Построение графиков\n",
    "Реализуйте функцию, которая будет строить графики по получаемым метрикам"
   ]
  },
  {
   "cell_type": "code",
   "execution_count": 24,
   "metadata": {},
   "outputs": [],
   "source": [
    "def vizualization(metrics):\n",
    "    \"\"\"gets metric values and returns their graphs\"\"\"\n",
    "    sns.set(font_scale=1.2, style=\"whitegrid\", rc={'figure.figsize': (20, 15)})\n",
    "    plt.subplot(221)\n",
    "    plt.title('Конверсия в покупку')\n",
    "    sns.barplot(data=metrics, x='group', y='CR',  palette='pastel')\n",
    "    plt.subplot(222)\n",
    "    plt.title('Средний чек')\n",
    "    sns.barplot(data=metrics, x='group', y='AVG_check', palette='pastel')"
   ]
  },
  {
   "cell_type": "code",
   "execution_count": 25,
   "metadata": {},
   "outputs": [
    {
     "data": {
      "image/png": "[encoded data removed]",
      "text/plain": [
       "<Figure size 1440x1080 with 2 Axes>"
      ]
     },
     "metadata": {},
     "output_type": "display_data"
    }
   ],
   "source": [
    "vizualization(addition(groups, groups_add, active_users, checks))"
   ]
  }
 ],
 "metadata": {
  "kernelspec": {
   "display_name": "Python 3",
   "language": "python",
   "name": "python3"
  },
  "language_info": {
   "codemirror_mode": {
    "name": "ipython",
    "version": 3
   },
   "file_extension": ".py",
   "mimetype": "text/x-python",
   "name": "python",
   "nbconvert_exporter": "python",
   "pygments_lexer": "ipython3",
   "version": "3.7.3"
  }
 },
 "nbformat": 4,
 "nbformat_minor": 4
}
